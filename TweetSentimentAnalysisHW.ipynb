{
 "cells": [
  {
   "cell_type": "code",
   "execution_count": 3,
   "metadata": {},
   "outputs": [],
   "source": [
    "#Import the relevant libraries\n",
    "import pandas as pd\n",
    "import matplotlib.pyplot as plt"
   ]
  },
  {
   "cell_type": "code",
   "execution_count": 4,
   "metadata": {},
   "outputs": [
    {
     "data": {
      "text/html": [
       "<div>\n",
       "<style scoped>\n",
       "    .dataframe tbody tr th:only-of-type {\n",
       "        vertical-align: middle;\n",
       "    }\n",
       "\n",
       "    .dataframe tbody tr th {\n",
       "        vertical-align: top;\n",
       "    }\n",
       "\n",
       "    .dataframe thead th {\n",
       "        text-align: right;\n",
       "    }\n",
       "</style>\n",
       "<table border=\"1\" class=\"dataframe\">\n",
       "  <thead>\n",
       "    <tr style=\"text-align: right;\">\n",
       "      <th></th>\n",
       "      <th>Class</th>\n",
       "      <th>Count</th>\n",
       "    </tr>\n",
       "  </thead>\n",
       "  <tbody>\n",
       "    <tr>\n",
       "      <th>0</th>\n",
       "      <td>&lt;class 'dict'&gt;</td>\n",
       "      <td>NaN</td>\n",
       "    </tr>\n",
       "    <tr>\n",
       "      <th>1</th>\n",
       "      <td>-5 sentiments</td>\n",
       "      <td>782.0</td>\n",
       "    </tr>\n",
       "    <tr>\n",
       "      <th>2</th>\n",
       "      <td>-4 sentiments</td>\n",
       "      <td>4509.0</td>\n",
       "    </tr>\n",
       "    <tr>\n",
       "      <th>3</th>\n",
       "      <td>-3 sentiments</td>\n",
       "      <td>7051.0</td>\n",
       "    </tr>\n",
       "    <tr>\n",
       "      <th>4</th>\n",
       "      <td>-2 sentiments</td>\n",
       "      <td>11248.0</td>\n",
       "    </tr>\n",
       "    <tr>\n",
       "      <th>5</th>\n",
       "      <td>-1 sentiments</td>\n",
       "      <td>15231.0</td>\n",
       "    </tr>\n",
       "    <tr>\n",
       "      <th>6</th>\n",
       "      <td>0 sentiments</td>\n",
       "      <td>0.0</td>\n",
       "    </tr>\n",
       "    <tr>\n",
       "      <th>7</th>\n",
       "      <td>1 sentiments</td>\n",
       "      <td>10287.0</td>\n",
       "    </tr>\n",
       "    <tr>\n",
       "      <th>8</th>\n",
       "      <td>2 sentiments</td>\n",
       "      <td>16987.0</td>\n",
       "    </tr>\n",
       "    <tr>\n",
       "      <th>9</th>\n",
       "      <td>3 sentiments</td>\n",
       "      <td>10825.0</td>\n",
       "    </tr>\n",
       "    <tr>\n",
       "      <th>10</th>\n",
       "      <td>4 sentiments</td>\n",
       "      <td>2431.0</td>\n",
       "    </tr>\n",
       "    <tr>\n",
       "      <th>11</th>\n",
       "      <td>5 sentiments</td>\n",
       "      <td>27.0</td>\n",
       "    </tr>\n",
       "  </tbody>\n",
       "</table>\n",
       "</div>"
      ],
      "text/plain": [
       "             Class    Count\n",
       "0   <class 'dict'>      NaN\n",
       "1    -5 sentiments    782.0\n",
       "2    -4 sentiments   4509.0\n",
       "3    -3 sentiments   7051.0\n",
       "4    -2 sentiments  11248.0\n",
       "5    -1 sentiments  15231.0\n",
       "6     0 sentiments      0.0\n",
       "7     1 sentiments  10287.0\n",
       "8     2 sentiments  16987.0\n",
       "9     3 sentiments  10825.0\n",
       "10    4 sentiments   2431.0\n",
       "11    5 sentiments     27.0"
      ]
     },
     "execution_count": 4,
     "metadata": {},
     "output_type": "execute_result"
    }
   ],
   "source": [
    "#Import the baseline file and label the columns\n",
    "df = pd.read_fwf('mohammad.txt', delimiter=\" \", names = ['Class', \"Count\"])\n",
    "df"
   ]
  },
  {
   "cell_type": "code",
   "execution_count": 5,
   "metadata": {},
   "outputs": [
    {
     "data": {
      "text/html": [
       "<div>\n",
       "<style scoped>\n",
       "    .dataframe tbody tr th:only-of-type {\n",
       "        vertical-align: middle;\n",
       "    }\n",
       "\n",
       "    .dataframe tbody tr th {\n",
       "        vertical-align: top;\n",
       "    }\n",
       "\n",
       "    .dataframe thead th {\n",
       "        text-align: right;\n",
       "    }\n",
       "</style>\n",
       "<table border=\"1\" class=\"dataframe\">\n",
       "  <thead>\n",
       "    <tr style=\"text-align: right;\">\n",
       "      <th></th>\n",
       "      <th>Class</th>\n",
       "      <th>Count</th>\n",
       "    </tr>\n",
       "  </thead>\n",
       "  <tbody>\n",
       "    <tr>\n",
       "      <th>1</th>\n",
       "      <td>-5 sentiments</td>\n",
       "      <td>782.0</td>\n",
       "    </tr>\n",
       "    <tr>\n",
       "      <th>2</th>\n",
       "      <td>-4 sentiments</td>\n",
       "      <td>4509.0</td>\n",
       "    </tr>\n",
       "    <tr>\n",
       "      <th>3</th>\n",
       "      <td>-3 sentiments</td>\n",
       "      <td>7051.0</td>\n",
       "    </tr>\n",
       "    <tr>\n",
       "      <th>4</th>\n",
       "      <td>-2 sentiments</td>\n",
       "      <td>11248.0</td>\n",
       "    </tr>\n",
       "    <tr>\n",
       "      <th>5</th>\n",
       "      <td>-1 sentiments</td>\n",
       "      <td>15231.0</td>\n",
       "    </tr>\n",
       "    <tr>\n",
       "      <th>6</th>\n",
       "      <td>0 sentiments</td>\n",
       "      <td>0.0</td>\n",
       "    </tr>\n",
       "    <tr>\n",
       "      <th>7</th>\n",
       "      <td>1 sentiments</td>\n",
       "      <td>10287.0</td>\n",
       "    </tr>\n",
       "    <tr>\n",
       "      <th>8</th>\n",
       "      <td>2 sentiments</td>\n",
       "      <td>16987.0</td>\n",
       "    </tr>\n",
       "    <tr>\n",
       "      <th>9</th>\n",
       "      <td>3 sentiments</td>\n",
       "      <td>10825.0</td>\n",
       "    </tr>\n",
       "    <tr>\n",
       "      <th>10</th>\n",
       "      <td>4 sentiments</td>\n",
       "      <td>2431.0</td>\n",
       "    </tr>\n",
       "    <tr>\n",
       "      <th>11</th>\n",
       "      <td>5 sentiments</td>\n",
       "      <td>27.0</td>\n",
       "    </tr>\n",
       "  </tbody>\n",
       "</table>\n",
       "</div>"
      ],
      "text/plain": [
       "            Class    Count\n",
       "1   -5 sentiments    782.0\n",
       "2   -4 sentiments   4509.0\n",
       "3   -3 sentiments   7051.0\n",
       "4   -2 sentiments  11248.0\n",
       "5   -1 sentiments  15231.0\n",
       "6    0 sentiments      0.0\n",
       "7    1 sentiments  10287.0\n",
       "8    2 sentiments  16987.0\n",
       "9    3 sentiments  10825.0\n",
       "10   4 sentiments   2431.0\n",
       "11   5 sentiments     27.0"
      ]
     },
     "execution_count": 5,
     "metadata": {},
     "output_type": "execute_result"
    }
   ],
   "source": [
    "#remove the column header that we do not need\n",
    "df = df.dropna()\n",
    "df"
   ]
  },
  {
   "cell_type": "code",
   "execution_count": 6,
   "metadata": {},
   "outputs": [
    {
     "data": {
      "text/html": [
       "<div>\n",
       "<style scoped>\n",
       "    .dataframe tbody tr th:only-of-type {\n",
       "        vertical-align: middle;\n",
       "    }\n",
       "\n",
       "    .dataframe tbody tr th {\n",
       "        vertical-align: top;\n",
       "    }\n",
       "\n",
       "    .dataframe thead th {\n",
       "        text-align: right;\n",
       "    }\n",
       "</style>\n",
       "<table border=\"1\" class=\"dataframe\">\n",
       "  <thead>\n",
       "    <tr style=\"text-align: right;\">\n",
       "      <th></th>\n",
       "      <th>Class</th>\n",
       "      <th>Count</th>\n",
       "      <th>Values</th>\n",
       "    </tr>\n",
       "  </thead>\n",
       "  <tbody>\n",
       "    <tr>\n",
       "      <th>1</th>\n",
       "      <td>-5 sentiments</td>\n",
       "      <td>782.0</td>\n",
       "      <td>-5</td>\n",
       "    </tr>\n",
       "    <tr>\n",
       "      <th>2</th>\n",
       "      <td>-4 sentiments</td>\n",
       "      <td>4509.0</td>\n",
       "      <td>-4</td>\n",
       "    </tr>\n",
       "    <tr>\n",
       "      <th>3</th>\n",
       "      <td>-3 sentiments</td>\n",
       "      <td>7051.0</td>\n",
       "      <td>-3</td>\n",
       "    </tr>\n",
       "    <tr>\n",
       "      <th>4</th>\n",
       "      <td>-2 sentiments</td>\n",
       "      <td>11248.0</td>\n",
       "      <td>-2</td>\n",
       "    </tr>\n",
       "    <tr>\n",
       "      <th>5</th>\n",
       "      <td>-1 sentiments</td>\n",
       "      <td>15231.0</td>\n",
       "      <td>-1</td>\n",
       "    </tr>\n",
       "    <tr>\n",
       "      <th>6</th>\n",
       "      <td>0 sentiments</td>\n",
       "      <td>0.0</td>\n",
       "      <td>0</td>\n",
       "    </tr>\n",
       "    <tr>\n",
       "      <th>7</th>\n",
       "      <td>1 sentiments</td>\n",
       "      <td>10287.0</td>\n",
       "      <td>1</td>\n",
       "    </tr>\n",
       "    <tr>\n",
       "      <th>8</th>\n",
       "      <td>2 sentiments</td>\n",
       "      <td>16987.0</td>\n",
       "      <td>2</td>\n",
       "    </tr>\n",
       "    <tr>\n",
       "      <th>9</th>\n",
       "      <td>3 sentiments</td>\n",
       "      <td>10825.0</td>\n",
       "      <td>3</td>\n",
       "    </tr>\n",
       "    <tr>\n",
       "      <th>10</th>\n",
       "      <td>4 sentiments</td>\n",
       "      <td>2431.0</td>\n",
       "      <td>4</td>\n",
       "    </tr>\n",
       "    <tr>\n",
       "      <th>11</th>\n",
       "      <td>5 sentiments</td>\n",
       "      <td>27.0</td>\n",
       "      <td>5</td>\n",
       "    </tr>\n",
       "  </tbody>\n",
       "</table>\n",
       "</div>"
      ],
      "text/plain": [
       "            Class    Count  Values\n",
       "1   -5 sentiments    782.0      -5\n",
       "2   -4 sentiments   4509.0      -4\n",
       "3   -3 sentiments   7051.0      -3\n",
       "4   -2 sentiments  11248.0      -2\n",
       "5   -1 sentiments  15231.0      -1\n",
       "6    0 sentiments      0.0       0\n",
       "7    1 sentiments  10287.0       1\n",
       "8    2 sentiments  16987.0       2\n",
       "9    3 sentiments  10825.0       3\n",
       "10   4 sentiments   2431.0       4\n",
       "11   5 sentiments     27.0       5"
      ]
     },
     "execution_count": 6,
     "metadata": {},
     "output_type": "execute_result"
    }
   ],
   "source": [
    "# add a new column with the sentiment values\n",
    "df = df.copy()\n",
    "df['Values'] = range(-5,6)\n",
    "df"
   ]
  },
  {
   "cell_type": "code",
   "execution_count": 7,
   "metadata": {},
   "outputs": [
    {
     "name": "stdout",
     "output_type": "stream",
     "text": [
      "79378.0\n"
     ]
    }
   ],
   "source": [
    "#Find the total number of sentiment counts\n",
    "c = df['Count'].sum()\n",
    "print(c)"
   ]
  },
  {
   "cell_type": "code",
   "execution_count": 8,
   "metadata": {},
   "outputs": [
    {
     "data": {
      "text/html": [
       "<div>\n",
       "<style scoped>\n",
       "    .dataframe tbody tr th:only-of-type {\n",
       "        vertical-align: middle;\n",
       "    }\n",
       "\n",
       "    .dataframe tbody tr th {\n",
       "        vertical-align: top;\n",
       "    }\n",
       "\n",
       "    .dataframe thead th {\n",
       "        text-align: right;\n",
       "    }\n",
       "</style>\n",
       "<table border=\"1\" class=\"dataframe\">\n",
       "  <thead>\n",
       "    <tr style=\"text-align: right;\">\n",
       "      <th></th>\n",
       "      <th>Class</th>\n",
       "      <th>Count</th>\n",
       "      <th>Values</th>\n",
       "      <th>Score</th>\n",
       "      <th>Normalized Count</th>\n",
       "      <th>Normalized Score</th>\n",
       "    </tr>\n",
       "  </thead>\n",
       "  <tbody>\n",
       "    <tr>\n",
       "      <th>1</th>\n",
       "      <td>-5 sentiments</td>\n",
       "      <td>782.0</td>\n",
       "      <td>-5</td>\n",
       "      <td>-3910.0</td>\n",
       "      <td>0.009852</td>\n",
       "      <td>0.049258</td>\n",
       "    </tr>\n",
       "    <tr>\n",
       "      <th>2</th>\n",
       "      <td>-4 sentiments</td>\n",
       "      <td>4509.0</td>\n",
       "      <td>-4</td>\n",
       "      <td>-18036.0</td>\n",
       "      <td>0.056804</td>\n",
       "      <td>0.227217</td>\n",
       "    </tr>\n",
       "    <tr>\n",
       "      <th>3</th>\n",
       "      <td>-3 sentiments</td>\n",
       "      <td>7051.0</td>\n",
       "      <td>-3</td>\n",
       "      <td>-21153.0</td>\n",
       "      <td>0.088828</td>\n",
       "      <td>0.266484</td>\n",
       "    </tr>\n",
       "    <tr>\n",
       "      <th>4</th>\n",
       "      <td>-2 sentiments</td>\n",
       "      <td>11248.0</td>\n",
       "      <td>-2</td>\n",
       "      <td>-22496.0</td>\n",
       "      <td>0.141702</td>\n",
       "      <td>0.283403</td>\n",
       "    </tr>\n",
       "    <tr>\n",
       "      <th>5</th>\n",
       "      <td>-1 sentiments</td>\n",
       "      <td>15231.0</td>\n",
       "      <td>-1</td>\n",
       "      <td>-15231.0</td>\n",
       "      <td>0.191879</td>\n",
       "      <td>0.191879</td>\n",
       "    </tr>\n",
       "    <tr>\n",
       "      <th>6</th>\n",
       "      <td>0 sentiments</td>\n",
       "      <td>0.0</td>\n",
       "      <td>0</td>\n",
       "      <td>0.0</td>\n",
       "      <td>0.000000</td>\n",
       "      <td>0.000000</td>\n",
       "    </tr>\n",
       "    <tr>\n",
       "      <th>7</th>\n",
       "      <td>1 sentiments</td>\n",
       "      <td>10287.0</td>\n",
       "      <td>1</td>\n",
       "      <td>10287.0</td>\n",
       "      <td>0.129595</td>\n",
       "      <td>0.129595</td>\n",
       "    </tr>\n",
       "    <tr>\n",
       "      <th>8</th>\n",
       "      <td>2 sentiments</td>\n",
       "      <td>16987.0</td>\n",
       "      <td>2</td>\n",
       "      <td>33974.0</td>\n",
       "      <td>0.214001</td>\n",
       "      <td>0.428003</td>\n",
       "    </tr>\n",
       "    <tr>\n",
       "      <th>9</th>\n",
       "      <td>3 sentiments</td>\n",
       "      <td>10825.0</td>\n",
       "      <td>3</td>\n",
       "      <td>32475.0</td>\n",
       "      <td>0.136373</td>\n",
       "      <td>0.409118</td>\n",
       "    </tr>\n",
       "    <tr>\n",
       "      <th>10</th>\n",
       "      <td>4 sentiments</td>\n",
       "      <td>2431.0</td>\n",
       "      <td>4</td>\n",
       "      <td>9724.0</td>\n",
       "      <td>0.030626</td>\n",
       "      <td>0.122502</td>\n",
       "    </tr>\n",
       "    <tr>\n",
       "      <th>11</th>\n",
       "      <td>5 sentiments</td>\n",
       "      <td>27.0</td>\n",
       "      <td>5</td>\n",
       "      <td>135.0</td>\n",
       "      <td>0.000340</td>\n",
       "      <td>0.001701</td>\n",
       "    </tr>\n",
       "  </tbody>\n",
       "</table>\n",
       "</div>"
      ],
      "text/plain": [
       "            Class    Count  Values    Score  Normalized Count  \\\n",
       "1   -5 sentiments    782.0      -5  -3910.0          0.009852   \n",
       "2   -4 sentiments   4509.0      -4 -18036.0          0.056804   \n",
       "3   -3 sentiments   7051.0      -3 -21153.0          0.088828   \n",
       "4   -2 sentiments  11248.0      -2 -22496.0          0.141702   \n",
       "5   -1 sentiments  15231.0      -1 -15231.0          0.191879   \n",
       "6    0 sentiments      0.0       0      0.0          0.000000   \n",
       "7    1 sentiments  10287.0       1  10287.0          0.129595   \n",
       "8    2 sentiments  16987.0       2  33974.0          0.214001   \n",
       "9    3 sentiments  10825.0       3  32475.0          0.136373   \n",
       "10   4 sentiments   2431.0       4   9724.0          0.030626   \n",
       "11   5 sentiments     27.0       5    135.0          0.000340   \n",
       "\n",
       "    Normalized Score  \n",
       "1           0.049258  \n",
       "2           0.227217  \n",
       "3           0.266484  \n",
       "4           0.283403  \n",
       "5           0.191879  \n",
       "6           0.000000  \n",
       "7           0.129595  \n",
       "8           0.428003  \n",
       "9           0.409118  \n",
       "10          0.122502  \n",
       "11          0.001701  "
      ]
     },
     "execution_count": 8,
     "metadata": {},
     "output_type": "execute_result"
    }
   ],
   "source": [
    "# Multiply the count by value to get the score\n",
    "df['Score'] = df['Count']*df['Values']\n",
    "#Normalize the count value and score value to total counts\n",
    "df['Normalized Count']=df['Count']/df['Count'].sum()\n",
    "df['Normalized Score']=abs(df['Normalized Count']*df['Values'])\n",
    "df"
   ]
  },
  {
   "cell_type": "code",
   "execution_count": 9,
   "metadata": {},
   "outputs": [
    {
     "data": {
      "text/plain": [
       "0.07267756809191464"
      ]
     },
     "execution_count": 9,
     "metadata": {},
     "output_type": "execute_result"
    }
   ],
   "source": [
    "#Average sentiment value\n",
    "df['Score'].sum()/df['Count'].sum()"
   ]
  },
  {
   "cell_type": "code",
   "execution_count": 10,
   "metadata": {},
   "outputs": [
    {
     "data": {
      "image/png": "[encoded data removed]",
      "text/plain": [
       "<Figure size 432x288 with 1 Axes>"
      ]
     },
     "metadata": {
      "needs_background": "light"
     },
     "output_type": "display_data"
    }
   ],
   "source": [
    "#Make a bar plot of the baseline tweet sentiment scores\n",
    "plt.bar(df['Values'],abs(df['Score']))\n",
    "plt.xlabel('Sentiment Value')\n",
    "plt.ylabel('Tweet Score')\n",
    "plt.title('Mohammad Tweet Sentiment Scores')\n",
    "plt.show()"
   ]
  },
  {
   "cell_type": "code",
   "execution_count": 11,
   "metadata": {},
   "outputs": [
    {
     "data": {
      "image/png": "[encoded data removed]",
      "text/plain": [
       "<Figure size 432x288 with 1 Axes>"
      ]
     },
     "metadata": {
      "needs_background": "light"
     },
     "output_type": "display_data"
    }
   ],
   "source": [
    "#Make a bar plot of the baseline tweet sentiment normalized scores\n",
    "plt.bar(df['Values'],df['Normalized Score'])\n",
    "plt.xlabel('Sentiment Value')\n",
    "plt.ylabel('Normalized Tweet Score')\n",
    "plt.title('Mohammad Tweet Sentiment Normalized Score')\n",
    "plt.show()"
   ]
  },
  {
   "cell_type": "code",
   "execution_count": 12,
   "metadata": {},
   "outputs": [
    {
     "data": {
      "image/png": "[encoded data removed]",
      "text/plain": [
       "<Figure size 432x288 with 1 Axes>"
      ]
     },
     "metadata": {
      "needs_background": "light"
     },
     "output_type": "display_data"
    }
   ],
   "source": [
    "#Bar plot of the baseline tweet sentiment count\n",
    "plt.bar(df['Values'],df['Count'])\n",
    "plt.xlabel('Sentiment Value')\n",
    "plt.ylabel('Tweet Count')\n",
    "plt.title('MOhammad Tweet Sentiment Count')\n",
    "plt.show()"
   ]
  },
  {
   "cell_type": "code",
   "execution_count": 13,
   "metadata": {},
   "outputs": [
    {
     "data": {
      "image/png": "[encoded data removed]",
      "text/plain": [
       "<Figure size 432x288 with 1 Axes>"
      ]
     },
     "metadata": {
      "needs_background": "light"
     },
     "output_type": "display_data"
    }
   ],
   "source": [
    "#Bar plot of the baseline tweet sentiment normalized count\n",
    "plt.bar(df['Values'],df['Normalized Count'])\n",
    "plt.xlabel('Sentiment Value')\n",
    "plt.ylabel('Tweet Normalized Count')\n",
    "plt.title('Mohammad Tweet Sentiment Normalized Count')\n",
    "plt.show()"
   ]
  },
  {
   "cell_type": "code",
   "execution_count": 14,
   "metadata": {},
   "outputs": [],
   "source": [
    "# Your turn. \n",
    "# Import the search specific tweets and make the same columns as we did for the baseline tweets.\n"
   ]
  },
  {
   "cell_type": "code",
   "execution_count": 15,
   "metadata": {},
   "outputs": [],
   "source": [
    "# Find the 'total count' AND 'average sentiment value' of your specific tweets\n",
    "#Total Sentiment Counts = 79378.0\n",
    "#Average Sentiment Value = 0.07267756809191464"
   ]
  },
  {
   "cell_type": "code",
   "execution_count": 16,
   "metadata": {},
   "outputs": [],
   "source": [
    "# Make at least two graphs representing your specific tweet sentiment analysis.  They can be similar to the plots above\n",
    "# but they can be different too. Makre sure you add titles and have labeled axis.\n"
   ]
  },
  {
   "cell_type": "code",
   "execution_count": 17,
   "metadata": {},
   "outputs": [],
   "source": [
    "# Try making at least one graph that shows the difference in baseline tweet counts or scores to your tweet specific counts or scores.\n",
    "# Remember, Google (LMGTFY) is a great resource."
   ]
  },
  {
   "cell_type": "markdown",
   "metadata": {},
   "source": [
    "Write a brief conclusion summarizing your results. Here are some questions to help you organize your ideas: How did you deal with uneven tweet counts? What are some assumptions in the AFINN-111.txt file and the sentiment ranking of words? How are the tweets weighted ie. are 10 -5 tweets as bad as 50 -1 tweets?  What was the average sentiment value of twitter and your search specific tweets? Et cetera, et cetera, et cetera.  Save this jupyter-notebook with your name in the title and post it to the Project - Sentiment Analysis using Python under the Assignments tab in worldclass."
   ]
  },
  {
   "cell_type": "code",
   "execution_count": 18,
   "metadata": {},
   "outputs": [],
   "source": [
    "#The Tweet Sentiment Analysis indicates negative outlooks for the time being. Most of the tweets have been around the -2, 2 & 3 sentiment values. \n",
    "#If we were to count the overall tweet sentiments, we will see that the sum of the positive tweets outweigh those of the negative ones for the Normalized Counts,\n",
    "#yet, their Normalized score weighs heavily in the negative region. Based on this observation, we can deduce that, though the tweet normalized scores\n",
    "#show more negative depictions, the sentiment analysis weighs in more on th positive side. Thus, the number of tweets and the words/ sentiments used matter,\n",
    "#but using Sentiment Analysis, we can see that that normalized scores are very differet, i.e. 50 bad tweets do not necessarily count more than \n",
    "#how they stand in normalization."
   ]
  },
  {
   "cell_type": "code",
   "execution_count": 19,
   "metadata": {},
   "outputs": [
    {
     "data": {
      "text/html": [
       "<div>\n",
       "<style scoped>\n",
       "    .dataframe tbody tr th:only-of-type {\n",
       "        vertical-align: middle;\n",
       "    }\n",
       "\n",
       "    .dataframe tbody tr th {\n",
       "        vertical-align: top;\n",
       "    }\n",
       "\n",
       "    .dataframe thead th {\n",
       "        text-align: right;\n",
       "    }\n",
       "</style>\n",
       "<table border=\"1\" class=\"dataframe\">\n",
       "  <thead>\n",
       "    <tr style=\"text-align: right;\">\n",
       "      <th></th>\n",
       "      <th>Class</th>\n",
       "      <th>Count</th>\n",
       "    </tr>\n",
       "  </thead>\n",
       "  <tbody>\n",
       "    <tr>\n",
       "      <th>0</th>\n",
       "      <td>&lt;class 'dict'&gt;</td>\n",
       "      <td>NaN</td>\n",
       "    </tr>\n",
       "    <tr>\n",
       "      <th>1</th>\n",
       "      <td>-5 sentiments</td>\n",
       "      <td>288.0</td>\n",
       "    </tr>\n",
       "    <tr>\n",
       "      <th>2</th>\n",
       "      <td>-4 sentiments</td>\n",
       "      <td>1354.0</td>\n",
       "    </tr>\n",
       "    <tr>\n",
       "      <th>3</th>\n",
       "      <td>-3 sentiments</td>\n",
       "      <td>2261.0</td>\n",
       "    </tr>\n",
       "    <tr>\n",
       "      <th>4</th>\n",
       "      <td>-2 sentiments</td>\n",
       "      <td>4700.0</td>\n",
       "    </tr>\n",
       "    <tr>\n",
       "      <th>5</th>\n",
       "      <td>-1 sentiments</td>\n",
       "      <td>2223.0</td>\n",
       "    </tr>\n",
       "    <tr>\n",
       "      <th>6</th>\n",
       "      <td>0 sentiments</td>\n",
       "      <td>0.0</td>\n",
       "    </tr>\n",
       "    <tr>\n",
       "      <th>7</th>\n",
       "      <td>1 sentiments</td>\n",
       "      <td>2812.0</td>\n",
       "    </tr>\n",
       "    <tr>\n",
       "      <th>8</th>\n",
       "      <td>2 sentiments</td>\n",
       "      <td>4177.0</td>\n",
       "    </tr>\n",
       "    <tr>\n",
       "      <th>9</th>\n",
       "      <td>3 sentiments</td>\n",
       "      <td>2935.0</td>\n",
       "    </tr>\n",
       "    <tr>\n",
       "      <th>10</th>\n",
       "      <td>4 sentiments</td>\n",
       "      <td>615.0</td>\n",
       "    </tr>\n",
       "    <tr>\n",
       "      <th>11</th>\n",
       "      <td>5 sentiments</td>\n",
       "      <td>12.0</td>\n",
       "    </tr>\n",
       "  </tbody>\n",
       "</table>\n",
       "</div>"
      ],
      "text/plain": [
       "             Class   Count\n",
       "0   <class 'dict'>     NaN\n",
       "1    -5 sentiments   288.0\n",
       "2    -4 sentiments  1354.0\n",
       "3    -3 sentiments  2261.0\n",
       "4    -2 sentiments  4700.0\n",
       "5    -1 sentiments  2223.0\n",
       "6     0 sentiments     0.0\n",
       "7     1 sentiments  2812.0\n",
       "8     2 sentiments  4177.0\n",
       "9     3 sentiments  2935.0\n",
       "10    4 sentiments   615.0\n",
       "11    5 sentiments    12.0"
      ]
     },
     "execution_count": 19,
     "metadata": {},
     "output_type": "execute_result"
    }
   ],
   "source": [
    "#Import the baseline file and label the columns\n",
    "da = pd.read_fwf('mohammadhashtag.txt', delimiter=\" \", names = ['Class', \"Count\"])\n",
    "da"
   ]
  },
  {
   "cell_type": "code",
   "execution_count": 20,
   "metadata": {},
   "outputs": [
    {
     "data": {
      "text/html": [
       "<div>\n",
       "<style scoped>\n",
       "    .dataframe tbody tr th:only-of-type {\n",
       "        vertical-align: middle;\n",
       "    }\n",
       "\n",
       "    .dataframe tbody tr th {\n",
       "        vertical-align: top;\n",
       "    }\n",
       "\n",
       "    .dataframe thead th {\n",
       "        text-align: right;\n",
       "    }\n",
       "</style>\n",
       "<table border=\"1\" class=\"dataframe\">\n",
       "  <thead>\n",
       "    <tr style=\"text-align: right;\">\n",
       "      <th></th>\n",
       "      <th>Class</th>\n",
       "      <th>Count</th>\n",
       "    </tr>\n",
       "  </thead>\n",
       "  <tbody>\n",
       "    <tr>\n",
       "      <th>1</th>\n",
       "      <td>-5 sentiments</td>\n",
       "      <td>288.0</td>\n",
       "    </tr>\n",
       "    <tr>\n",
       "      <th>2</th>\n",
       "      <td>-4 sentiments</td>\n",
       "      <td>1354.0</td>\n",
       "    </tr>\n",
       "    <tr>\n",
       "      <th>3</th>\n",
       "      <td>-3 sentiments</td>\n",
       "      <td>2261.0</td>\n",
       "    </tr>\n",
       "    <tr>\n",
       "      <th>4</th>\n",
       "      <td>-2 sentiments</td>\n",
       "      <td>4700.0</td>\n",
       "    </tr>\n",
       "    <tr>\n",
       "      <th>5</th>\n",
       "      <td>-1 sentiments</td>\n",
       "      <td>2223.0</td>\n",
       "    </tr>\n",
       "    <tr>\n",
       "      <th>6</th>\n",
       "      <td>0 sentiments</td>\n",
       "      <td>0.0</td>\n",
       "    </tr>\n",
       "    <tr>\n",
       "      <th>7</th>\n",
       "      <td>1 sentiments</td>\n",
       "      <td>2812.0</td>\n",
       "    </tr>\n",
       "    <tr>\n",
       "      <th>8</th>\n",
       "      <td>2 sentiments</td>\n",
       "      <td>4177.0</td>\n",
       "    </tr>\n",
       "    <tr>\n",
       "      <th>9</th>\n",
       "      <td>3 sentiments</td>\n",
       "      <td>2935.0</td>\n",
       "    </tr>\n",
       "    <tr>\n",
       "      <th>10</th>\n",
       "      <td>4 sentiments</td>\n",
       "      <td>615.0</td>\n",
       "    </tr>\n",
       "    <tr>\n",
       "      <th>11</th>\n",
       "      <td>5 sentiments</td>\n",
       "      <td>12.0</td>\n",
       "    </tr>\n",
       "  </tbody>\n",
       "</table>\n",
       "</div>"
      ],
      "text/plain": [
       "            Class   Count\n",
       "1   -5 sentiments   288.0\n",
       "2   -4 sentiments  1354.0\n",
       "3   -3 sentiments  2261.0\n",
       "4   -2 sentiments  4700.0\n",
       "5   -1 sentiments  2223.0\n",
       "6    0 sentiments     0.0\n",
       "7    1 sentiments  2812.0\n",
       "8    2 sentiments  4177.0\n",
       "9    3 sentiments  2935.0\n",
       "10   4 sentiments   615.0\n",
       "11   5 sentiments    12.0"
      ]
     },
     "execution_count": 20,
     "metadata": {},
     "output_type": "execute_result"
    }
   ],
   "source": [
    "#remove the column header that we do not need\n",
    "da = da.dropna()\n",
    "da"
   ]
  },
  {
   "cell_type": "code",
   "execution_count": 21,
   "metadata": {},
   "outputs": [
    {
     "data": {
      "text/html": [
       "<div>\n",
       "<style scoped>\n",
       "    .dataframe tbody tr th:only-of-type {\n",
       "        vertical-align: middle;\n",
       "    }\n",
       "\n",
       "    .dataframe tbody tr th {\n",
       "        vertical-align: top;\n",
       "    }\n",
       "\n",
       "    .dataframe thead th {\n",
       "        text-align: right;\n",
       "    }\n",
       "</style>\n",
       "<table border=\"1\" class=\"dataframe\">\n",
       "  <thead>\n",
       "    <tr style=\"text-align: right;\">\n",
       "      <th></th>\n",
       "      <th>Class</th>\n",
       "      <th>Count</th>\n",
       "      <th>Values</th>\n",
       "    </tr>\n",
       "  </thead>\n",
       "  <tbody>\n",
       "    <tr>\n",
       "      <th>1</th>\n",
       "      <td>-5 sentiments</td>\n",
       "      <td>288.0</td>\n",
       "      <td>-5</td>\n",
       "    </tr>\n",
       "    <tr>\n",
       "      <th>2</th>\n",
       "      <td>-4 sentiments</td>\n",
       "      <td>1354.0</td>\n",
       "      <td>-4</td>\n",
       "    </tr>\n",
       "    <tr>\n",
       "      <th>3</th>\n",
       "      <td>-3 sentiments</td>\n",
       "      <td>2261.0</td>\n",
       "      <td>-3</td>\n",
       "    </tr>\n",
       "    <tr>\n",
       "      <th>4</th>\n",
       "      <td>-2 sentiments</td>\n",
       "      <td>4700.0</td>\n",
       "      <td>-2</td>\n",
       "    </tr>\n",
       "    <tr>\n",
       "      <th>5</th>\n",
       "      <td>-1 sentiments</td>\n",
       "      <td>2223.0</td>\n",
       "      <td>-1</td>\n",
       "    </tr>\n",
       "    <tr>\n",
       "      <th>6</th>\n",
       "      <td>0 sentiments</td>\n",
       "      <td>0.0</td>\n",
       "      <td>0</td>\n",
       "    </tr>\n",
       "    <tr>\n",
       "      <th>7</th>\n",
       "      <td>1 sentiments</td>\n",
       "      <td>2812.0</td>\n",
       "      <td>1</td>\n",
       "    </tr>\n",
       "    <tr>\n",
       "      <th>8</th>\n",
       "      <td>2 sentiments</td>\n",
       "      <td>4177.0</td>\n",
       "      <td>2</td>\n",
       "    </tr>\n",
       "    <tr>\n",
       "      <th>9</th>\n",
       "      <td>3 sentiments</td>\n",
       "      <td>2935.0</td>\n",
       "      <td>3</td>\n",
       "    </tr>\n",
       "    <tr>\n",
       "      <th>10</th>\n",
       "      <td>4 sentiments</td>\n",
       "      <td>615.0</td>\n",
       "      <td>4</td>\n",
       "    </tr>\n",
       "    <tr>\n",
       "      <th>11</th>\n",
       "      <td>5 sentiments</td>\n",
       "      <td>12.0</td>\n",
       "      <td>5</td>\n",
       "    </tr>\n",
       "  </tbody>\n",
       "</table>\n",
       "</div>"
      ],
      "text/plain": [
       "            Class   Count  Values\n",
       "1   -5 sentiments   288.0      -5\n",
       "2   -4 sentiments  1354.0      -4\n",
       "3   -3 sentiments  2261.0      -3\n",
       "4   -2 sentiments  4700.0      -2\n",
       "5   -1 sentiments  2223.0      -1\n",
       "6    0 sentiments     0.0       0\n",
       "7    1 sentiments  2812.0       1\n",
       "8    2 sentiments  4177.0       2\n",
       "9    3 sentiments  2935.0       3\n",
       "10   4 sentiments   615.0       4\n",
       "11   5 sentiments    12.0       5"
      ]
     },
     "execution_count": 21,
     "metadata": {},
     "output_type": "execute_result"
    }
   ],
   "source": [
    "# add a new column with the sentiment values\n",
    "da = da.copy()\n",
    "da['Values'] = range(-5,6)\n",
    "da"
   ]
  },
  {
   "cell_type": "code",
   "execution_count": 22,
   "metadata": {},
   "outputs": [
    {
     "name": "stdout",
     "output_type": "stream",
     "text": [
      "21377.0\n"
     ]
    }
   ],
   "source": [
    "#Find the total number of sentiment counts\n",
    "d = da['Count'].sum()\n",
    "print(d)"
   ]
  },
  {
   "cell_type": "code",
   "execution_count": 23,
   "metadata": {},
   "outputs": [
    {
     "data": {
      "text/html": [
       "<div>\n",
       "<style scoped>\n",
       "    .dataframe tbody tr th:only-of-type {\n",
       "        vertical-align: middle;\n",
       "    }\n",
       "\n",
       "    .dataframe tbody tr th {\n",
       "        vertical-align: top;\n",
       "    }\n",
       "\n",
       "    .dataframe thead th {\n",
       "        text-align: right;\n",
       "    }\n",
       "</style>\n",
       "<table border=\"1\" class=\"dataframe\">\n",
       "  <thead>\n",
       "    <tr style=\"text-align: right;\">\n",
       "      <th></th>\n",
       "      <th>Class</th>\n",
       "      <th>Count</th>\n",
       "      <th>Values</th>\n",
       "      <th>Score</th>\n",
       "      <th>Normalized Count</th>\n",
       "      <th>Normalized Score</th>\n",
       "    </tr>\n",
       "  </thead>\n",
       "  <tbody>\n",
       "    <tr>\n",
       "      <th>1</th>\n",
       "      <td>-5 sentiments</td>\n",
       "      <td>288.0</td>\n",
       "      <td>-5</td>\n",
       "      <td>-1440.0</td>\n",
       "      <td>0.013472</td>\n",
       "      <td>0.067362</td>\n",
       "    </tr>\n",
       "    <tr>\n",
       "      <th>2</th>\n",
       "      <td>-4 sentiments</td>\n",
       "      <td>1354.0</td>\n",
       "      <td>-4</td>\n",
       "      <td>-5416.0</td>\n",
       "      <td>0.063339</td>\n",
       "      <td>0.253356</td>\n",
       "    </tr>\n",
       "    <tr>\n",
       "      <th>3</th>\n",
       "      <td>-3 sentiments</td>\n",
       "      <td>2261.0</td>\n",
       "      <td>-3</td>\n",
       "      <td>-6783.0</td>\n",
       "      <td>0.105768</td>\n",
       "      <td>0.317304</td>\n",
       "    </tr>\n",
       "    <tr>\n",
       "      <th>4</th>\n",
       "      <td>-2 sentiments</td>\n",
       "      <td>4700.0</td>\n",
       "      <td>-2</td>\n",
       "      <td>-9400.0</td>\n",
       "      <td>0.219862</td>\n",
       "      <td>0.439725</td>\n",
       "    </tr>\n",
       "    <tr>\n",
       "      <th>5</th>\n",
       "      <td>-1 sentiments</td>\n",
       "      <td>2223.0</td>\n",
       "      <td>-1</td>\n",
       "      <td>-2223.0</td>\n",
       "      <td>0.103990</td>\n",
       "      <td>0.103990</td>\n",
       "    </tr>\n",
       "    <tr>\n",
       "      <th>6</th>\n",
       "      <td>0 sentiments</td>\n",
       "      <td>0.0</td>\n",
       "      <td>0</td>\n",
       "      <td>0.0</td>\n",
       "      <td>0.000000</td>\n",
       "      <td>0.000000</td>\n",
       "    </tr>\n",
       "    <tr>\n",
       "      <th>7</th>\n",
       "      <td>1 sentiments</td>\n",
       "      <td>2812.0</td>\n",
       "      <td>1</td>\n",
       "      <td>2812.0</td>\n",
       "      <td>0.131543</td>\n",
       "      <td>0.131543</td>\n",
       "    </tr>\n",
       "    <tr>\n",
       "      <th>8</th>\n",
       "      <td>2 sentiments</td>\n",
       "      <td>4177.0</td>\n",
       "      <td>2</td>\n",
       "      <td>8354.0</td>\n",
       "      <td>0.195397</td>\n",
       "      <td>0.390794</td>\n",
       "    </tr>\n",
       "    <tr>\n",
       "      <th>9</th>\n",
       "      <td>3 sentiments</td>\n",
       "      <td>2935.0</td>\n",
       "      <td>3</td>\n",
       "      <td>8805.0</td>\n",
       "      <td>0.137297</td>\n",
       "      <td>0.411891</td>\n",
       "    </tr>\n",
       "    <tr>\n",
       "      <th>10</th>\n",
       "      <td>4 sentiments</td>\n",
       "      <td>615.0</td>\n",
       "      <td>4</td>\n",
       "      <td>2460.0</td>\n",
       "      <td>0.028769</td>\n",
       "      <td>0.115077</td>\n",
       "    </tr>\n",
       "    <tr>\n",
       "      <th>11</th>\n",
       "      <td>5 sentiments</td>\n",
       "      <td>12.0</td>\n",
       "      <td>5</td>\n",
       "      <td>60.0</td>\n",
       "      <td>0.000561</td>\n",
       "      <td>0.002807</td>\n",
       "    </tr>\n",
       "  </tbody>\n",
       "</table>\n",
       "</div>"
      ],
      "text/plain": [
       "            Class   Count  Values   Score  Normalized Count  Normalized Score\n",
       "1   -5 sentiments   288.0      -5 -1440.0          0.013472          0.067362\n",
       "2   -4 sentiments  1354.0      -4 -5416.0          0.063339          0.253356\n",
       "3   -3 sentiments  2261.0      -3 -6783.0          0.105768          0.317304\n",
       "4   -2 sentiments  4700.0      -2 -9400.0          0.219862          0.439725\n",
       "5   -1 sentiments  2223.0      -1 -2223.0          0.103990          0.103990\n",
       "6    0 sentiments     0.0       0     0.0          0.000000          0.000000\n",
       "7    1 sentiments  2812.0       1  2812.0          0.131543          0.131543\n",
       "8    2 sentiments  4177.0       2  8354.0          0.195397          0.390794\n",
       "9    3 sentiments  2935.0       3  8805.0          0.137297          0.411891\n",
       "10   4 sentiments   615.0       4  2460.0          0.028769          0.115077\n",
       "11   5 sentiments    12.0       5    60.0          0.000561          0.002807"
      ]
     },
     "execution_count": 23,
     "metadata": {},
     "output_type": "execute_result"
    }
   ],
   "source": [
    "# Multiply the count by value to get the score\n",
    "da['Score'] = da['Count']*da['Values']\n",
    "#Normalize the count value and score value to total counts\n",
    "da['Normalized Count']=da['Count']/da['Count'].sum()\n",
    "da['Normalized Score']=abs(da['Normalized Count']*da['Values'])\n",
    "da"
   ]
  },
  {
   "cell_type": "code",
   "execution_count": 24,
   "metadata": {},
   "outputs": [
    {
     "data": {
      "text/plain": [
       "-0.12962529821771063"
      ]
     },
     "execution_count": 24,
     "metadata": {},
     "output_type": "execute_result"
    }
   ],
   "source": [
    "#Average sentiment value\n",
    "da['Score'].sum()/da['Count'].sum()"
   ]
  },
  {
   "cell_type": "code",
   "execution_count": 25,
   "metadata": {
    "scrolled": true
   },
   "outputs": [
    {
     "data": {
      "image/png": "[encoded data removed]",
      "text/plain": [
       "<Figure size 432x288 with 1 Axes>"
      ]
     },
     "metadata": {
      "needs_background": "light"
     },
     "output_type": "display_data"
    }
   ],
   "source": [
    "#Make a bar plot of the baseline tweet sentiment scores\n",
    "plt.bar(da['Values'],abs(da['Score']))\n",
    "plt.xlabel('Sentiment Value')\n",
    "plt.ylabel('Tweet Score')\n",
    "plt.title('Baseline Tweet Sentiment Scores')\n",
    "plt.show()"
   ]
  },
  {
   "cell_type": "code",
   "execution_count": 26,
   "metadata": {},
   "outputs": [
    {
     "data": {
      "image/png": "[encoded data removed]",
      "text/plain": [
       "<Figure size 432x288 with 1 Axes>"
      ]
     },
     "metadata": {
      "needs_background": "light"
     },
     "output_type": "display_data"
    }
   ],
   "source": [
    "#Make a bar plot of the baseline tweet sentiment normalized scores\n",
    "plt.bar(da['Values'],da['Normalized Score'])\n",
    "plt.xlabel('Sentiment Value')\n",
    "plt.ylabel('Normalized Tweet Score')\n",
    "plt.title('Baseline Tweet Sentiment Normalized Score')\n",
    "plt.show()"
   ]
  },
  {
   "cell_type": "code",
   "execution_count": 27,
   "metadata": {},
   "outputs": [
    {
     "data": {
      "image/png": "[encoded data removed]",
      "text/plain": [
       "<Figure size 432x288 with 1 Axes>"
      ]
     },
     "metadata": {
      "needs_background": "light"
     },
     "output_type": "display_data"
    }
   ],
   "source": [
    "#Bar plot of the baseline tweet sentiment count\n",
    "plt.bar(da['Values'],da['Count'])\n",
    "plt.xlabel('Sentiment Value')\n",
    "plt.ylabel('Tweet Count')\n",
    "plt.title('Baseline Tweet Sentiment Count')\n",
    "plt.show()"
   ]
  },
  {
   "cell_type": "code",
   "execution_count": 28,
   "metadata": {},
   "outputs": [
    {
     "data": {
      "image/png": "[encoded data removed]",
      "text/plain": [
       "<Figure size 432x288 with 1 Axes>"
      ]
     },
     "metadata": {
      "needs_background": "light"
     },
     "output_type": "display_data"
    }
   ],
   "source": [
    "#Bar plot of the baseline tweet sentiment normalized count\n",
    "plt.bar(da['Values'],da['Normalized Count'])\n",
    "plt.xlabel('Sentiment Value')\n",
    "plt.ylabel('Tweet Normalized Count')\n",
    "plt.title('Baseline Tweet Sentiment Normalized Count')\n",
    "plt.show()"
   ]
  },
  {
   "cell_type": "code",
   "execution_count": 48,
   "metadata": {},
   "outputs": [
    {
     "name": "stdout",
     "output_type": "stream",
     "text": [
      "1                                                    -5350\n",
      "2                                                   -23452\n",
      "3                                                   -27936\n",
      "4                                                   -31896\n",
      "5                                                   -17454\n",
      "6                                                        0\n",
      "7                                                    13099\n",
      "8                                                    42328\n",
      "9                                                    41280\n",
      "10                                                   12184\n",
      "11                                                     195\n",
      "Score    1     -5350.0\n",
      "2    -23452.0\n",
      "3    -27936.0\n",
      "4   ...\n",
      "Count                                                58001\n",
      "Name: Score, dtype: object\n"
     ]
    }
   ],
   "source": [
    "dg['Count'] = c-d\n",
    "print(dg)\n"
   ]
  },
  {
   "cell_type": "code",
   "execution_count": 53,
   "metadata": {},
   "outputs": [
    {
     "data": {
      "text/plain": [
       "1                                            -10\n",
       "2                                             -8\n",
       "3                                             -6\n",
       "4                                             -4\n",
       "5                                             -2\n",
       "6                                              0\n",
       "7                                              2\n",
       "8                                              4\n",
       "9                                              6\n",
       "10                                             8\n",
       "11                                            10\n",
       "Values    (-5, -4, -3, -2, -1, 0, 1, 2, 3, 4, 5)\n",
       "Name: Values, dtype: object"
      ]
     },
     "execution_count": 53,
     "metadata": {},
     "output_type": "execute_result"
    }
   ],
   "source": [
    "dg = (da['Values']+df['Values'])\n",
    "dg['Values'] = range(-5,6)\n",
    "dg"
   ]
  },
  {
   "cell_type": "code",
   "execution_count": 50,
   "metadata": {},
   "outputs": [
    {
     "data": {
      "text/plain": [
       "1                                                       -10\n",
       "2                                                        -8\n",
       "3                                                        -6\n",
       "4                                                        -4\n",
       "5                                                        -2\n",
       "6                                                         0\n",
       "7                                                         2\n",
       "8                                                         4\n",
       "9                                                         6\n",
       "10                                                        8\n",
       "11                                                       10\n",
       "Values               (-5, -4, -3, -2, -1, 0, 1, 2, 3, 4, 5)\n",
       "Score     1     -5350.0\n",
       "2    -23452.0\n",
       "3    -27936.0\n",
       "4   ...\n",
       "Name: Values, dtype: object"
      ]
     },
     "execution_count": 50,
     "metadata": {},
     "output_type": "execute_result"
    }
   ],
   "source": [
    "dg['Score'] = (da['Score'] +df['Score'])\n",
    "dg"
   ]
  },
  {
   "cell_type": "code",
   "execution_count": 51,
   "metadata": {},
   "outputs": [
    {
     "data": {
      "image/png": "[encoded data removed]",
      "text/plain": [
       "<Figure size 432x288 with 1 Axes>"
      ]
     },
     "metadata": {
      "needs_background": "light"
     },
     "output_type": "display_data"
    }
   ],
   "source": [
    "plt.bar(dg['Values'],abs(dg['Score']))\n",
    "plt.xlabel('Sentiment Value')\n",
    "plt.ylabel('Tweet Score')\n",
    "plt.title('Baseline Tweet Sentiment Scores')\n",
    "plt.show()"
   ]
  }
 ],
 "metadata": {
  "kernelspec": {
   "display_name": "Python 3",
   "language": "python",
   "name": "python3"
  },
  "language_info": {
   "codemirror_mode": {
    "name": "ipython",
    "version": 3
   },
   "file_extension": ".py",
   "mimetype": "text/x-python",
   "name": "python",
   "nbconvert_exporter": "python",
   "pygments_lexer": "ipython3",
   "version": "3.7.1"
  }
 },
 "nbformat": 4,
 "nbformat_minor": 2
}
